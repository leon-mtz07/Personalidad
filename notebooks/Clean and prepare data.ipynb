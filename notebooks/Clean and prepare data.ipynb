{
 "cells": [
  {
   "metadata": {},
   "cell_type": "markdown",
   "source": "# Limpieza y preparación de datos",
   "id": "29301a4b6a42970f"
  },
  {
   "cell_type": "code",
   "id": "initial_id",
   "metadata": {
    "collapsed": true,
    "ExecuteTime": {
     "end_time": "2025-06-21T17:19:39.809207Z",
     "start_time": "2025-06-21T17:19:27.842613Z"
    }
   },
   "source": "import pandas as pd",
   "outputs": [],
   "execution_count": 1
  }
 ],
 "metadata": {
  "kernelspec": {
   "display_name": "Python 3",
   "language": "python",
   "name": "python3"
  },
  "language_info": {
   "codemirror_mode": {
    "name": "ipython",
    "version": 2
   },
   "file_extension": ".py",
   "mimetype": "text/x-python",
   "name": "python",
   "nbconvert_exporter": "python",
   "pygments_lexer": "ipython2",
   "version": "2.7.6"
  }
 },
 "nbformat": 4,
 "nbformat_minor": 5
}
